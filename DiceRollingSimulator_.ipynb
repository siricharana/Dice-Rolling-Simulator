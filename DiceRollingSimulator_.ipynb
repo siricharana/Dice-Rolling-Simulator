{
  "nbformat": 4,
  "nbformat_minor": 0,
  "metadata": {
    "colab": {
      "provenance": [],
      "authorship_tag": "ABX9TyNJqOceftDhbqTKLBE1DKG2",
      "include_colab_link": true
    },
    "kernelspec": {
      "name": "python3",
      "display_name": "Python 3"
    },
    "language_info": {
      "name": "python"
    }
  },
  "cells": [
    {
      "cell_type": "markdown",
      "metadata": {
        "id": "view-in-github",
        "colab_type": "text"
      },
      "source": [
        "<a href=\"https://colab.research.google.com/github/siricharana/Dice-Rolling-Simulator/blob/main/DiceRollingSimulator_.ipynb\" target=\"_parent\"><img src=\"https://colab.research.google.com/assets/colab-badge.svg\" alt=\"Open In Colab\"/></a>"
      ]
    },
    {
      "cell_type": "markdown",
      "source": [
        "random.randint(): This function generates a random number in the given range. Below is the implementation."
      ],
      "metadata": {
        "id": "z30zNH-noBRL"
      }
    },
    {
      "cell_type": "code",
      "execution_count": 2,
      "metadata": {
        "colab": {
          "base_uri": "https://localhost:8080/"
        },
        "id": "tTaqI79rmiIF",
        "outputId": "0969e0c4-9572-4a42-d5e5-aa87714506ce"
      },
      "outputs": [
        {
          "output_type": "stream",
          "name": "stdout",
          "text": [
            "[-----]\n",
            "[0 0]\n",
            "[ 0 ]\n",
            "[0 0]\n",
            "[-----]\n",
            "press y to roll again and n to exit:y\n",
            "\n",
            "\n",
            "[-----]\n",
            "[0 0]\n",
            "[ 0 ]\n",
            "[0 0]\n",
            "[-----]\n",
            "press y to roll again and n to exit:y\n",
            "\n",
            "\n",
            "[-----]\n",
            "[0 0]\n",
            "[ ]\n",
            "[0 0]\n",
            "[-----]\n",
            "press y to roll again and n to exit:n\n",
            "\n",
            "\n"
          ]
        }
      ],
      "source": [
        "import random\n",
        "\n",
        "x = \"y\"\n",
        "\n",
        "while x == \"y\":\n",
        "    # Generates a random number\n",
        "    # between 1 and 6 (including\n",
        "    # both 1 and 6)\n",
        "    no = random.randint(1,6)\n",
        "\n",
        "    if no == 1:\n",
        "        print(\"[-----]\")\n",
        "        print(\"[ ]\")\n",
        "        print(\"[ 0 ]\")\n",
        "        print(\"[ ]\")\n",
        "        print(\"[-----]\")\n",
        "    if no == 2:\n",
        "        print(\"[-----]\")\n",
        "        print(\"[ 0 ]\")\n",
        "        print(\"[ ]\")\n",
        "        print(\"[ 0 ]\")\n",
        "        print(\"[-----]\")\n",
        "    if no == 3:\n",
        "        print(\"[-----]\")\n",
        "        print(\"[ ]\")\n",
        "        print(\"[0 0 0]\")\n",
        "        print(\"[ ]\")\n",
        "        print(\"[-----]\")\n",
        "    if no == 4:\n",
        "        print(\"[-----]\")\n",
        "        print(\"[0 0]\")\n",
        "        print(\"[ ]\")\n",
        "        print(\"[0 0]\")\n",
        "        print(\"[-----]\")\n",
        "    if no == 5:\n",
        "        print(\"[-----]\")\n",
        "        print(\"[0 0]\")\n",
        "        print(\"[ 0 ]\")\n",
        "        print(\"[0 0]\")\n",
        "        print(\"[-----]\")\n",
        "    if no == 6:\n",
        "        print(\"[-----]\")\n",
        "        print(\"[0 0 0]\")\n",
        "        print(\"[ ]\")\n",
        "        print(\"[0 0 0]\")\n",
        "        print(\"[-----]\")\n",
        "\n",
        "    x=input(\"press y to roll again and n to exit:\")\n",
        "    print(\"\\n\")"
      ]
    },
    {
      "cell_type": "code",
      "source": [
        "import random\n",
        "while True:\n",
        "  print('''1.roll the dice 2.To exit ''')\n",
        "  user = int(input(\"what you want to do\\n\"))\n",
        "  if user==1:\n",
        "       number = random.randint(1,6)\n",
        "       print(number)\n",
        "  else:\n",
        "    break"
      ],
      "metadata": {
        "colab": {
          "base_uri": "https://localhost:8080/"
        },
        "id": "TBHfO9OBn74q",
        "outputId": "6d511f7d-74e7-4f73-ad09-b294a6483677"
      },
      "execution_count": null,
      "outputs": [
        {
          "output_type": "stream",
          "name": "stdout",
          "text": [
            "1.roll the dice 2.To exit \n",
            "what you want to do\n",
            "1\n",
            "6\n",
            "1.roll the dice 2.To exit \n",
            "what you want to do\n",
            "1\n",
            "1\n",
            "1.roll the dice 2.To exit \n"
          ]
        }
      ]
    }
  ]
}